{
 "cells": [
  {
   "cell_type": "markdown",
   "id": "2aab1c31",
   "metadata": {},
   "source": [
    "# Training Routine"
   ]
  },
  {
   "cell_type": "markdown",
   "id": "03a1ae37",
   "metadata": {},
   "source": [
    "In this notebook, I propose the training routine for my model. This is seen as my debugging environment before moving to the orchestrator."
   ]
  },
  {
   "cell_type": "markdown",
   "id": "f7ccf171",
   "metadata": {},
   "source": [
    "## Load packages and data"
   ]
  },
  {
   "cell_type": "code",
   "execution_count": 13,
   "id": "32b45a4d",
   "metadata": {},
   "outputs": [],
   "source": [
    "import os\n",
    "import itertools\n",
    "import click\n",
    "import mlflow\n",
    "import pandas as pd\n",
    "import numpy as np\n",
    "import xgboost as xgb\n",
    "\n",
    "from sklearn.model_selection import ParameterGrid\n",
    "from sklearn.metrics import accuracy_score, f1_score"
   ]
  },
  {
   "cell_type": "markdown",
   "id": "674feccd",
   "metadata": {},
   "source": [
    "Define target column"
   ]
  },
  {
   "cell_type": "code",
   "execution_count": 14,
   "id": "4e16eef0",
   "metadata": {},
   "outputs": [],
   "source": [
    "TARGET_COL = \"GradeClass\""
   ]
  },
  {
   "cell_type": "markdown",
   "id": "2ec096b6",
   "metadata": {},
   "source": [
    "Define helper function to load csv files"
   ]
  },
  {
   "cell_type": "code",
   "execution_count": null,
   "id": "10e0708c",
   "metadata": {},
   "outputs": [],
   "source": [
    "def read_csv_as_xy(path):\n",
    "    # Read CSV\n",
    "    df = pd.read_csv(path)\n",
    "    # Split into X and y and coerce booleans into 1 and 0\n",
    "    X = df.drop(columns=[TARGET_COL]).apply(\n",
    "        lambda c: c.astype(int) if c.dtype == \"bool\" else c\n",
    "    )\n",
    "    # Define multiclass target variable\n",
    "    y = df[TARGET_COL].astype(int)\n",
    "    return X, y"
   ]
  },
  {
   "cell_type": "code",
   "execution_count": 11,
   "id": "d5550288",
   "metadata": {},
   "outputs": [
    {
     "data": {
      "text/html": [
       "<div>\n",
       "<style scoped>\n",
       "    .dataframe tbody tr th:only-of-type {\n",
       "        vertical-align: middle;\n",
       "    }\n",
       "\n",
       "    .dataframe tbody tr th {\n",
       "        vertical-align: top;\n",
       "    }\n",
       "\n",
       "    .dataframe thead th {\n",
       "        text-align: right;\n",
       "    }\n",
       "</style>\n",
       "<table border=\"1\" class=\"dataframe\">\n",
       "  <thead>\n",
       "    <tr style=\"text-align: right;\">\n",
       "      <th></th>\n",
       "      <th>StudyTimeWeekly</th>\n",
       "      <th>Absences</th>\n",
       "      <th>GradeClass</th>\n",
       "      <th>Age_15</th>\n",
       "      <th>Age_16</th>\n",
       "      <th>Age_17</th>\n",
       "      <th>Age_18</th>\n",
       "      <th>Gender_Female</th>\n",
       "      <th>Gender_Male</th>\n",
       "      <th>Ethnicity_African American</th>\n",
       "      <th>...</th>\n",
       "      <th>ParentalSupport_None</th>\n",
       "      <th>ParentalSupport_Very High</th>\n",
       "      <th>Extracurricular_No</th>\n",
       "      <th>Extracurricular_Yes</th>\n",
       "      <th>Sports_No</th>\n",
       "      <th>Sports_Yes</th>\n",
       "      <th>Music_No</th>\n",
       "      <th>Music_Yes</th>\n",
       "      <th>Volunteering_No</th>\n",
       "      <th>Volunteering_Yes</th>\n",
       "    </tr>\n",
       "  </thead>\n",
       "  <tbody>\n",
       "    <tr>\n",
       "      <th>0</th>\n",
       "      <td>19.833723</td>\n",
       "      <td>7</td>\n",
       "      <td>2.0</td>\n",
       "      <td>False</td>\n",
       "      <td>False</td>\n",
       "      <td>True</td>\n",
       "      <td>False</td>\n",
       "      <td>True</td>\n",
       "      <td>False</td>\n",
       "      <td>False</td>\n",
       "      <td>...</td>\n",
       "      <td>False</td>\n",
       "      <td>False</td>\n",
       "      <td>True</td>\n",
       "      <td>False</td>\n",
       "      <td>True</td>\n",
       "      <td>False</td>\n",
       "      <td>False</td>\n",
       "      <td>True</td>\n",
       "      <td>True</td>\n",
       "      <td>False</td>\n",
       "    </tr>\n",
       "    <tr>\n",
       "      <th>1</th>\n",
       "      <td>4.210570</td>\n",
       "      <td>26</td>\n",
       "      <td>4.0</td>\n",
       "      <td>True</td>\n",
       "      <td>False</td>\n",
       "      <td>False</td>\n",
       "      <td>False</td>\n",
       "      <td>False</td>\n",
       "      <td>True</td>\n",
       "      <td>False</td>\n",
       "      <td>...</td>\n",
       "      <td>False</td>\n",
       "      <td>False</td>\n",
       "      <td>True</td>\n",
       "      <td>False</td>\n",
       "      <td>True</td>\n",
       "      <td>False</td>\n",
       "      <td>True</td>\n",
       "      <td>False</td>\n",
       "      <td>True</td>\n",
       "      <td>False</td>\n",
       "    </tr>\n",
       "    <tr>\n",
       "      <th>2</th>\n",
       "      <td>10.028829</td>\n",
       "      <td>14</td>\n",
       "      <td>3.0</td>\n",
       "      <td>False</td>\n",
       "      <td>False</td>\n",
       "      <td>True</td>\n",
       "      <td>False</td>\n",
       "      <td>True</td>\n",
       "      <td>False</td>\n",
       "      <td>False</td>\n",
       "      <td>...</td>\n",
       "      <td>False</td>\n",
       "      <td>False</td>\n",
       "      <td>False</td>\n",
       "      <td>True</td>\n",
       "      <td>True</td>\n",
       "      <td>False</td>\n",
       "      <td>True</td>\n",
       "      <td>False</td>\n",
       "      <td>True</td>\n",
       "      <td>False</td>\n",
       "    </tr>\n",
       "    <tr>\n",
       "      <th>3</th>\n",
       "      <td>8.191219</td>\n",
       "      <td>0</td>\n",
       "      <td>1.0</td>\n",
       "      <td>False</td>\n",
       "      <td>False</td>\n",
       "      <td>False</td>\n",
       "      <td>True</td>\n",
       "      <td>False</td>\n",
       "      <td>True</td>\n",
       "      <td>False</td>\n",
       "      <td>...</td>\n",
       "      <td>False</td>\n",
       "      <td>False</td>\n",
       "      <td>False</td>\n",
       "      <td>True</td>\n",
       "      <td>True</td>\n",
       "      <td>False</td>\n",
       "      <td>True</td>\n",
       "      <td>False</td>\n",
       "      <td>True</td>\n",
       "      <td>False</td>\n",
       "    </tr>\n",
       "    <tr>\n",
       "      <th>4</th>\n",
       "      <td>15.601680</td>\n",
       "      <td>10</td>\n",
       "      <td>2.0</td>\n",
       "      <td>True</td>\n",
       "      <td>False</td>\n",
       "      <td>False</td>\n",
       "      <td>False</td>\n",
       "      <td>False</td>\n",
       "      <td>True</td>\n",
       "      <td>True</td>\n",
       "      <td>...</td>\n",
       "      <td>False</td>\n",
       "      <td>False</td>\n",
       "      <td>True</td>\n",
       "      <td>False</td>\n",
       "      <td>False</td>\n",
       "      <td>True</td>\n",
       "      <td>True</td>\n",
       "      <td>False</td>\n",
       "      <td>True</td>\n",
       "      <td>False</td>\n",
       "    </tr>\n",
       "  </tbody>\n",
       "</table>\n",
       "<p>5 rows × 33 columns</p>\n",
       "</div>"
      ],
      "text/plain": [
       "   StudyTimeWeekly  Absences  GradeClass  Age_15  Age_16  Age_17  Age_18  \\\n",
       "0        19.833723         7         2.0   False   False    True   False   \n",
       "1         4.210570        26         4.0    True   False   False   False   \n",
       "2        10.028829        14         3.0   False   False    True   False   \n",
       "3         8.191219         0         1.0   False   False   False    True   \n",
       "4        15.601680        10         2.0    True   False   False   False   \n",
       "\n",
       "   Gender_Female  Gender_Male  Ethnicity_African American  ...  \\\n",
       "0           True        False                       False  ...   \n",
       "1          False         True                       False  ...   \n",
       "2           True        False                       False  ...   \n",
       "3          False         True                       False  ...   \n",
       "4          False         True                        True  ...   \n",
       "\n",
       "   ParentalSupport_None  ParentalSupport_Very High  Extracurricular_No  \\\n",
       "0                 False                      False                True   \n",
       "1                 False                      False                True   \n",
       "2                 False                      False               False   \n",
       "3                 False                      False               False   \n",
       "4                 False                      False                True   \n",
       "\n",
       "   Extracurricular_Yes  Sports_No  Sports_Yes  Music_No  Music_Yes  \\\n",
       "0                False       True       False     False       True   \n",
       "1                False       True       False      True      False   \n",
       "2                 True       True       False      True      False   \n",
       "3                 True       True       False      True      False   \n",
       "4                False      False        True      True      False   \n",
       "\n",
       "   Volunteering_No  Volunteering_Yes  \n",
       "0             True             False  \n",
       "1             True             False  \n",
       "2             True             False  \n",
       "3             True             False  \n",
       "4             True             False  \n",
       "\n",
       "[5 rows x 33 columns]"
      ]
     },
     "execution_count": 11,
     "metadata": {},
     "output_type": "execute_result"
    }
   ],
   "source": [
    "df.head()"
   ]
  },
  {
   "cell_type": "code",
   "execution_count": 15,
   "id": "93d32f0f",
   "metadata": {},
   "outputs": [],
   "source": [
    "import pandas as pd"
   ]
  },
  {
   "cell_type": "code",
   "execution_count": 16,
   "id": "7c42757e",
   "metadata": {},
   "outputs": [],
   "source": [
    "data = pd.read_csv('../data/students_performance.csv')"
   ]
  },
  {
   "cell_type": "code",
   "execution_count": 18,
   "id": "de5a4db3",
   "metadata": {},
   "outputs": [
    {
     "data": {
      "text/plain": [
       "StudentID            3392.000000\n",
       "Age                    16.000000\n",
       "Gender                  1.000000\n",
       "Ethnicity               0.000000\n",
       "ParentalEducation       2.000000\n",
       "StudyTimeWeekly        17.819907\n",
       "Absences               13.000000\n",
       "Tutoring                0.000000\n",
       "ParentalSupport         2.000000\n",
       "Extracurricular         0.000000\n",
       "Sports                  0.000000\n",
       "Music                   0.000000\n",
       "Volunteering            1.000000\n",
       "GPA                     2.140014\n",
       "GradeClass              1.000000\n",
       "Name: 2391, dtype: float64"
      ]
     },
     "execution_count": 18,
     "metadata": {},
     "output_type": "execute_result"
    }
   ],
   "source": [
    "data.iloc[-1]"
   ]
  },
  {
   "cell_type": "code",
   "execution_count": 19,
   "id": "0c002344",
   "metadata": {},
   "outputs": [],
   "source": [
    "dict_ex = {\n",
    "    'StudentID':3393,\n",
    "      'Age':17,\n",
    "        'Gender':0,\n",
    "          'Ethnicity':1,\n",
    "            'ParentalEducation':1,\n",
    "\n",
    "       'StudyTimeWeekly':18.43,\n",
    "         'Absences':12,\n",
    "           'Tutoring':1,\n",
    "             'ParentalSupport':1,\n",
    "\n",
    "       'Extracurricular':0,\n",
    "         'Sports':1,\n",
    "           'Music':1,\n",
    "             'Volunteering':0,\n",
    "               'GPA':2.15,\n",
    "}"
   ]
  },
  {
   "cell_type": "code",
   "execution_count": 22,
   "id": "96f966d3",
   "metadata": {},
   "outputs": [],
   "source": [
    "df = pd.DataFrame(dict_ex,index=[0])"
   ]
  },
  {
   "cell_type": "code",
   "execution_count": 24,
   "id": "987c8998",
   "metadata": {},
   "outputs": [],
   "source": [
    "df.to_csv('../data/sample_test_input.csv',index=False)"
   ]
  },
  {
   "cell_type": "code",
   "execution_count": null,
   "id": "70aaeff8",
   "metadata": {},
   "outputs": [],
   "source": []
  }
 ],
 "metadata": {
  "kernelspec": {
   "display_name": "mlops_project",
   "language": "python",
   "name": "python3"
  },
  "language_info": {
   "codemirror_mode": {
    "name": "ipython",
    "version": 3
   },
   "file_extension": ".py",
   "mimetype": "text/x-python",
   "name": "python",
   "nbconvert_exporter": "python",
   "pygments_lexer": "ipython3",
   "version": "3.12.9"
  }
 },
 "nbformat": 4,
 "nbformat_minor": 5
}
