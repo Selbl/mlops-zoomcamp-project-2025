{
 "cells": [
  {
   "cell_type": "code",
   "execution_count": null,
   "id": "2aa0c62e",
   "metadata": {},
   "outputs": [],
   "source": [
    "import pandas as pd\n",
    "\n",
    "from evidently import Dataset\n",
    "from evidently import DataDefinition\n",
    "from evidently import Report\n",
    "from evidently.presets import DataDriftPreset\n",
    "\n",
    "from evidently.tests.numerical_tests import TestStatus as num_test_status\n",
    "from evidently.tests.categorical_tests import TestStatus as cat_test_status\n"
   ]
  },
  {
   "cell_type": "code",
   "execution_count": null,
   "id": "34e4b82c",
   "metadata": {},
   "outputs": [],
   "source": [
    "# Load data\n",
    "# Use raw versions to leverage evidently's API\n",
    "train = pd.read_csv('../data/raw/train.csv',index_col=False)\n",
    "val = pd.read_csv('../data/raw/val.csv',index_col=False)"
   ]
  },
  {
   "cell_type": "code",
   "execution_count": 5,
   "id": "a5ed6d14",
   "metadata": {},
   "outputs": [
    {
     "data": {
      "text/plain": [
       "Index(['StudentID', 'Age', 'Gender', 'Ethnicity', 'ParentalEducation',\n",
       "       'StudyTimeWeekly', 'Absences', 'Tutoring', 'ParentalSupport',\n",
       "       'Extracurricular', 'Sports', 'Music', 'Volunteering', 'GradeClass'],\n",
       "      dtype='object')"
      ]
     },
     "execution_count": 5,
     "metadata": {},
     "output_type": "execute_result"
    }
   ],
   "source": [
    "train.columns"
   ]
  },
  {
   "cell_type": "code",
   "execution_count": 6,
   "id": "4b87c91c",
   "metadata": {},
   "outputs": [
    {
     "data": {
      "text/html": [
       "<div>\n",
       "<style scoped>\n",
       "    .dataframe tbody tr th:only-of-type {\n",
       "        vertical-align: middle;\n",
       "    }\n",
       "\n",
       "    .dataframe tbody tr th {\n",
       "        vertical-align: top;\n",
       "    }\n",
       "\n",
       "    .dataframe thead th {\n",
       "        text-align: right;\n",
       "    }\n",
       "</style>\n",
       "<table border=\"1\" class=\"dataframe\">\n",
       "  <thead>\n",
       "    <tr style=\"text-align: right;\">\n",
       "      <th></th>\n",
       "      <th>StudentID</th>\n",
       "      <th>Age</th>\n",
       "      <th>Gender</th>\n",
       "      <th>Ethnicity</th>\n",
       "      <th>ParentalEducation</th>\n",
       "      <th>StudyTimeWeekly</th>\n",
       "      <th>Absences</th>\n",
       "      <th>Tutoring</th>\n",
       "      <th>ParentalSupport</th>\n",
       "      <th>Extracurricular</th>\n",
       "      <th>Sports</th>\n",
       "      <th>Music</th>\n",
       "      <th>Volunteering</th>\n",
       "      <th>GradeClass</th>\n",
       "    </tr>\n",
       "  </thead>\n",
       "  <tbody>\n",
       "    <tr>\n",
       "      <th>0</th>\n",
       "      <td>1001</td>\n",
       "      <td>17</td>\n",
       "      <td>1</td>\n",
       "      <td>0</td>\n",
       "      <td>2</td>\n",
       "      <td>19.833723</td>\n",
       "      <td>7</td>\n",
       "      <td>1</td>\n",
       "      <td>2</td>\n",
       "      <td>0</td>\n",
       "      <td>0</td>\n",
       "      <td>1</td>\n",
       "      <td>0</td>\n",
       "      <td>2.0</td>\n",
       "    </tr>\n",
       "    <tr>\n",
       "      <th>1</th>\n",
       "      <td>1003</td>\n",
       "      <td>15</td>\n",
       "      <td>0</td>\n",
       "      <td>2</td>\n",
       "      <td>3</td>\n",
       "      <td>4.210570</td>\n",
       "      <td>26</td>\n",
       "      <td>0</td>\n",
       "      <td>2</td>\n",
       "      <td>0</td>\n",
       "      <td>0</td>\n",
       "      <td>0</td>\n",
       "      <td>0</td>\n",
       "      <td>4.0</td>\n",
       "    </tr>\n",
       "    <tr>\n",
       "      <th>2</th>\n",
       "      <td>1004</td>\n",
       "      <td>17</td>\n",
       "      <td>1</td>\n",
       "      <td>0</td>\n",
       "      <td>3</td>\n",
       "      <td>10.028829</td>\n",
       "      <td>14</td>\n",
       "      <td>0</td>\n",
       "      <td>3</td>\n",
       "      <td>1</td>\n",
       "      <td>0</td>\n",
       "      <td>0</td>\n",
       "      <td>0</td>\n",
       "      <td>3.0</td>\n",
       "    </tr>\n",
       "    <tr>\n",
       "      <th>3</th>\n",
       "      <td>1006</td>\n",
       "      <td>18</td>\n",
       "      <td>0</td>\n",
       "      <td>0</td>\n",
       "      <td>1</td>\n",
       "      <td>8.191219</td>\n",
       "      <td>0</td>\n",
       "      <td>0</td>\n",
       "      <td>1</td>\n",
       "      <td>1</td>\n",
       "      <td>0</td>\n",
       "      <td>0</td>\n",
       "      <td>0</td>\n",
       "      <td>1.0</td>\n",
       "    </tr>\n",
       "    <tr>\n",
       "      <th>4</th>\n",
       "      <td>1007</td>\n",
       "      <td>15</td>\n",
       "      <td>0</td>\n",
       "      <td>1</td>\n",
       "      <td>1</td>\n",
       "      <td>15.601680</td>\n",
       "      <td>10</td>\n",
       "      <td>0</td>\n",
       "      <td>3</td>\n",
       "      <td>0</td>\n",
       "      <td>1</td>\n",
       "      <td>0</td>\n",
       "      <td>0</td>\n",
       "      <td>2.0</td>\n",
       "    </tr>\n",
       "  </tbody>\n",
       "</table>\n",
       "</div>"
      ],
      "text/plain": [
       "   StudentID  Age  Gender  Ethnicity  ParentalEducation  StudyTimeWeekly  \\\n",
       "0       1001   17       1          0                  2        19.833723   \n",
       "1       1003   15       0          2                  3         4.210570   \n",
       "2       1004   17       1          0                  3        10.028829   \n",
       "3       1006   18       0          0                  1         8.191219   \n",
       "4       1007   15       0          1                  1        15.601680   \n",
       "\n",
       "   Absences  Tutoring  ParentalSupport  Extracurricular  Sports  Music  \\\n",
       "0         7         1                2                0       0      1   \n",
       "1        26         0                2                0       0      0   \n",
       "2        14         0                3                1       0      0   \n",
       "3         0         0                1                1       0      0   \n",
       "4        10         0                3                0       1      0   \n",
       "\n",
       "   Volunteering  GradeClass  \n",
       "0             0         2.0  \n",
       "1             0         4.0  \n",
       "2             0         3.0  \n",
       "3             0         1.0  \n",
       "4             0         2.0  "
      ]
     },
     "execution_count": 6,
     "metadata": {},
     "output_type": "execute_result"
    }
   ],
   "source": [
    "train.head()"
   ]
  },
  {
   "cell_type": "code",
   "execution_count": 7,
   "id": "1e055f4b",
   "metadata": {},
   "outputs": [],
   "source": [
    "schema = DataDefinition(\n",
    "    numerical_columns=[\"StudyTimeWeekly\",\"Absences\"],\n",
    "    categorical_columns=['Age', 'Gender', 'Ethnicity', 'ParentalEducation',\n",
    "       'Tutoring', 'ParentalSupport','Extracurricular', 'Sports', 'Music',\n",
    "        'Volunteering', 'GradeClass'],\n",
    "    )"
   ]
  },
  {
   "cell_type": "code",
   "execution_count": 8,
   "id": "ad18d8c8",
   "metadata": {},
   "outputs": [],
   "source": [
    "#Format as Evidently dataset objects\n",
    "train_ev = Dataset.from_pandas(\n",
    "    pd.DataFrame(train),\n",
    "    data_definition=schema\n",
    ")\n",
    "\n",
    "val_ev = Dataset.from_pandas(\n",
    "    pd.DataFrame(val),\n",
    "    data_definition=schema\n",
    ")"
   ]
  },
  {
   "cell_type": "code",
   "execution_count": 11,
   "id": "63f5bf65",
   "metadata": {},
   "outputs": [],
   "source": [
    "report = Report([\n",
    "    DataDriftPreset()\n",
    "],\n",
    "include_tests=\"True\")\n",
    "my_eval = report.run(train_ev,val_ev)"
   ]
  },
  {
   "cell_type": "code",
   "execution_count": 57,
   "id": "1f894c7a",
   "metadata": {},
   "outputs": [],
   "source": [
    "num_fail =  num_test_status.FAIL\n",
    "cat_fail =  cat_test_status.FAIL"
   ]
  },
  {
   "cell_type": "code",
   "execution_count": 58,
   "id": "8fafff3a",
   "metadata": {},
   "outputs": [
    {
     "name": "stdout",
     "output_type": "stream",
     "text": [
      "Uh oh!\n",
      "There seems to be a drift in a column!\n",
      "\n",
      "Value Drift for column Ethnicity\n",
      " \n",
      "Drift score is 0.01. The drift detection method is chi-square p_value. The drift threshold is 0.05.\n",
      " \n",
      "You might want to consider re-generating the train-val-test split\n",
      "\n",
      "Uh oh!\n",
      "There seems to be a drift in a column!\n",
      "\n",
      "Value Drift for column ParentalEducation\n",
      " \n",
      "Drift score is 0.00. The drift detection method is chi-square p_value. The drift threshold is 0.05.\n",
      " \n",
      "You might want to consider re-generating the train-val-test split\n",
      "\n"
     ]
    }
   ],
   "source": [
    "for i in range(14):\n",
    "    value = my_eval.dict()['tests'][i]['status']\n",
    "    if value in [num_fail,cat_fail]:\n",
    "        # Check for the GradeClass column\n",
    "        if i == 13:\n",
    "            print('OH NO!\\n')\n",
    "            print('It appears you have value drift for the dependent variable\\n')\n",
    "            print('Here is the log:\\n')\n",
    "            print(my_eval.dict()['tests'][i]['description'])\n",
    "            print(' ')\n",
    "            print('You should strongly consider re-generating the split\\n')\n",
    "            print('If not, it is possible that your model will be ineffective\\n')\n",
    "\n",
    "            continue\n",
    "        \n",
    "        # Check for the others\n",
    "        print('Uh oh!')\n",
    "        print('There seems to be a drift in a column!\\n')\n",
    "        print(my_eval.dict()['tests'][i]['name'])\n",
    "        print(' ')\n",
    "        print(my_eval.dict()['tests'][i]['description'])\n",
    "        print(' ')\n",
    "        print('You might want to consider re-generating the train-val-test split\\n')\n"
   ]
  }
 ],
 "metadata": {
  "kernelspec": {
   "display_name": "mlops-zoomcamp-project-2025-gzlMAwjs",
   "language": "python",
   "name": "python3"
  },
  "language_info": {
   "codemirror_mode": {
    "name": "ipython",
    "version": 3
   },
   "file_extension": ".py",
   "mimetype": "text/x-python",
   "name": "python",
   "nbconvert_exporter": "python",
   "pygments_lexer": "ipython3",
   "version": "3.12.9"
  }
 },
 "nbformat": 4,
 "nbformat_minor": 5
}
