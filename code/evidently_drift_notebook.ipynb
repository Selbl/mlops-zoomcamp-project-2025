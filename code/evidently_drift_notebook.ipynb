{
 "cells": [
  {
   "cell_type": "code",
   "execution_count": null,
   "id": "2aa0c62e",
   "metadata": {},
   "outputs": [],
   "source": [
    "import pandas as pd\n",
    "\n",
    "from evidently import Dataset\n",
    "from evidently import DataDefinition\n",
    "from evidently import Report\n",
    "from evidently.presets import DataDriftPreset\n",
    "\n",
    "from evidently.tests.numerical_tests import TestStatus as num_test_status\n",
    "from evidently.tests.categorical_tests import TestStatus as cat_test_status\n"
   ]
  },
  {
   "cell_type": "code",
   "execution_count": null,
   "id": "34e4b82c",
   "metadata": {},
   "outputs": [],
   "source": [
    "# Load data\n",
    "# Use raw versions to leverage evidently's API\n",
    "train = pd.read_csv('../data/raw/train.csv',index_col=False)\n",
    "val = pd.read_csv('../data/raw/val.csv',index_col=False)"
   ]
  },
  {
   "cell_type": "code",
   "execution_count": 5,
   "id": "a5ed6d14",
   "metadata": {},
   "outputs": [
    {
     "data": {
      "text/plain": [
       "Index(['StudentID', 'Age', 'Gender', 'Ethnicity', 'ParentalEducation',\n",
       "       'StudyTimeWeekly', 'Absences', 'Tutoring', 'ParentalSupport',\n",
       "       'Extracurricular', 'Sports', 'Music', 'Volunteering', 'GradeClass'],\n",
       "      dtype='object')"
      ]
     },
     "execution_count": 5,
     "metadata": {},
     "output_type": "execute_result"
    }
   ],
   "source": [
    "train.columns"
   ]
  },
  {
   "cell_type": "code",
   "execution_count": 6,
   "id": "4b87c91c",
   "metadata": {},
   "outputs": [
    {
     "data": {
      "text/html": [
       "<div>\n",
       "<style scoped>\n",
       "    .dataframe tbody tr th:only-of-type {\n",
       "        vertical-align: middle;\n",
       "    }\n",
       "\n",
       "    .dataframe tbody tr th {\n",
       "        vertical-align: top;\n",
       "    }\n",
       "\n",
       "    .dataframe thead th {\n",
       "        text-align: right;\n",
       "    }\n",
       "</style>\n",
       "<table border=\"1\" class=\"dataframe\">\n",
       "  <thead>\n",
       "    <tr style=\"text-align: right;\">\n",
       "      <th></th>\n",
       "      <th>StudentID</th>\n",
       "      <th>Age</th>\n",
       "      <th>Gender</th>\n",
       "      <th>Ethnicity</th>\n",
       "      <th>ParentalEducation</th>\n",
       "      <th>StudyTimeWeekly</th>\n",
       "      <th>Absences</th>\n",
       "      <th>Tutoring</th>\n",
       "      <th>ParentalSupport</th>\n",
       "      <th>Extracurricular</th>\n",
       "      <th>Sports</th>\n",
       "      <th>Music</th>\n",
       "      <th>Volunteering</th>\n",
       "      <th>GradeClass</th>\n",
       "    </tr>\n",
       "  </thead>\n",
       "  <tbody>\n",
       "    <tr>\n",
       "      <th>0</th>\n",
       "      <td>1001</td>\n",
       "      <td>17</td>\n",
       "      <td>1</td>\n",
       "      <td>0</td>\n",
       "      <td>2</td>\n",
       "      <td>19.833723</td>\n",
       "      <td>7</td>\n",
       "      <td>1</td>\n",
       "      <td>2</td>\n",
       "      <td>0</td>\n",
       "      <td>0</td>\n",
       "      <td>1</td>\n",
       "      <td>0</td>\n",
       "      <td>2.0</td>\n",
       "    </tr>\n",
       "    <tr>\n",
       "      <th>1</th>\n",
       "      <td>1003</td>\n",
       "      <td>15</td>\n",
       "      <td>0</td>\n",
       "      <td>2</td>\n",
       "      <td>3</td>\n",
       "      <td>4.210570</td>\n",
       "      <td>26</td>\n",
       "      <td>0</td>\n",
       "      <td>2</td>\n",
       "      <td>0</td>\n",
       "      <td>0</td>\n",
       "      <td>0</td>\n",
       "      <td>0</td>\n",
       "      <td>4.0</td>\n",
       "    </tr>\n",
       "    <tr>\n",
       "      <th>2</th>\n",
       "      <td>1004</td>\n",
       "      <td>17</td>\n",
       "      <td>1</td>\n",
       "      <td>0</td>\n",
       "      <td>3</td>\n",
       "      <td>10.028829</td>\n",
       "      <td>14</td>\n",
       "      <td>0</td>\n",
       "      <td>3</td>\n",
       "      <td>1</td>\n",
       "      <td>0</td>\n",
       "      <td>0</td>\n",
       "      <td>0</td>\n",
       "      <td>3.0</td>\n",
       "    </tr>\n",
       "    <tr>\n",
       "      <th>3</th>\n",
       "      <td>1006</td>\n",
       "      <td>18</td>\n",
       "      <td>0</td>\n",
       "      <td>0</td>\n",
       "      <td>1</td>\n",
       "      <td>8.191219</td>\n",
       "      <td>0</td>\n",
       "      <td>0</td>\n",
       "      <td>1</td>\n",
       "      <td>1</td>\n",
       "      <td>0</td>\n",
       "      <td>0</td>\n",
       "      <td>0</td>\n",
       "      <td>1.0</td>\n",
       "    </tr>\n",
       "    <tr>\n",
       "      <th>4</th>\n",
       "      <td>1007</td>\n",
       "      <td>15</td>\n",
       "      <td>0</td>\n",
       "      <td>1</td>\n",
       "      <td>1</td>\n",
       "      <td>15.601680</td>\n",
       "      <td>10</td>\n",
       "      <td>0</td>\n",
       "      <td>3</td>\n",
       "      <td>0</td>\n",
       "      <td>1</td>\n",
       "      <td>0</td>\n",
       "      <td>0</td>\n",
       "      <td>2.0</td>\n",
       "    </tr>\n",
       "  </tbody>\n",
       "</table>\n",
       "</div>"
      ],
      "text/plain": [
       "   StudentID  Age  Gender  Ethnicity  ParentalEducation  StudyTimeWeekly  \\\n",
       "0       1001   17       1          0                  2        19.833723   \n",
       "1       1003   15       0          2                  3         4.210570   \n",
       "2       1004   17       1          0                  3        10.028829   \n",
       "3       1006   18       0          0                  1         8.191219   \n",
       "4       1007   15       0          1                  1        15.601680   \n",
       "\n",
       "   Absences  Tutoring  ParentalSupport  Extracurricular  Sports  Music  \\\n",
       "0         7         1                2                0       0      1   \n",
       "1        26         0                2                0       0      0   \n",
       "2        14         0                3                1       0      0   \n",
       "3         0         0                1                1       0      0   \n",
       "4        10         0                3                0       1      0   \n",
       "\n",
       "   Volunteering  GradeClass  \n",
       "0             0         2.0  \n",
       "1             0         4.0  \n",
       "2             0         3.0  \n",
       "3             0         1.0  \n",
       "4             0         2.0  "
      ]
     },
     "execution_count": 6,
     "metadata": {},
     "output_type": "execute_result"
    }
   ],
   "source": [
    "train.head()"
   ]
  },
  {
   "cell_type": "code",
   "execution_count": 7,
   "id": "1e055f4b",
   "metadata": {},
   "outputs": [],
   "source": [
    "schema = DataDefinition(\n",
    "    numerical_columns=[\"StudyTimeWeekly\",\"Absences\"],\n",
    "    categorical_columns=['Age', 'Gender', 'Ethnicity', 'ParentalEducation',\n",
    "       'Tutoring', 'ParentalSupport','Extracurricular', 'Sports', 'Music',\n",
    "        'Volunteering', 'GradeClass'],\n",
    "    )"
   ]
  },
  {
   "cell_type": "code",
   "execution_count": 8,
   "id": "ad18d8c8",
   "metadata": {},
   "outputs": [],
   "source": [
    "#Format as Evidently dataset objects\n",
    "train_ev = Dataset.from_pandas(\n",
    "    pd.DataFrame(train),\n",
    "    data_definition=schema\n",
    ")\n",
    "\n",
    "val_ev = Dataset.from_pandas(\n",
    "    pd.DataFrame(val),\n",
    "    data_definition=schema\n",
    ")"
   ]
  },
  {
   "cell_type": "code",
   "execution_count": 11,
   "id": "63f5bf65",
   "metadata": {},
   "outputs": [],
   "source": [
    "report = Report([\n",
    "    DataDriftPreset()\n",
    "],\n",
    "include_tests=\"True\")\n",
    "my_eval = report.run(train_ev,val_ev)"
   ]
  },
  {
   "cell_type": "code",
   "execution_count": 21,
   "id": "dc3dbdf1",
   "metadata": {},
   "outputs": [
    {
     "name": "stdout",
     "output_type": "stream",
     "text": [
      "{'metrics': [{'id': '15e89f895b482f9b84ba7274ed18a106', 'metric_id': 'DriftedColumnsCount(drift_share=0.5)', 'value': {'count': 2.0, 'share': 0.15384615384615385}}, {'id': '00dd8ce4b56e6aae44128c0cca15d261', 'metric_id': 'ValueDrift(column=StudyTimeWeekly)', 'value': np.float64(0.39858272652622134)}, {'id': '0bc46a3cec87db56ff52decf30215a10', 'metric_id': 'ValueDrift(column=Absences)', 'value': np.float64(0.6626556080329581)}, {'id': '8f5d1c60a32d6fc1bd54bc53af61d8e8', 'metric_id': 'ValueDrift(column=Age)', 'value': np.float64(0.08569339421307885)}, {'id': '36230dcfc62097d9b2725a795000a999', 'metric_id': 'ValueDrift(column=Gender)', 'value': np.float64(0.5663586113768899)}, {'id': '0318315f1e57c8412de5b393bd387a0f', 'metric_id': 'ValueDrift(column=Ethnicity)', 'value': np.float64(0.008480662996859609)}, {'id': '7db670e70400b7e4689ac0aa335094cb', 'metric_id': 'ValueDrift(column=ParentalEducation)', 'value': np.float64(0.0002070530515027384)}, {'id': 'd8a63127d09a52824f55857944a21f0c', 'metric_id': 'ValueDrift(column=Tutoring)', 'value': np.float64(0.10088014430573233)}, {'id': 'df1de02e5533d2be22fbc0aefe3940f6', 'metric_id': 'ValueDrift(column=ParentalSupport)', 'value': np.float64(0.07554381445384478)}, {'id': '93314681ceed7bdc3b2a77176766ebcd', 'metric_id': 'ValueDrift(column=Extracurricular)', 'value': np.float64(0.8138550778470108)}, {'id': '39ca23cb4aa7f511138036491b18c347', 'metric_id': 'ValueDrift(column=Sports)', 'value': np.float64(0.13919035851034578)}, {'id': '929b9908bf3a332b8283b4440b4440a8', 'metric_id': 'ValueDrift(column=Music)', 'value': np.float64(0.47732849908506103)}, {'id': '9ec1b216cbca174af260408befd3994f', 'metric_id': 'ValueDrift(column=Volunteering)', 'value': np.float64(0.7997559808712769)}, {'id': 'ff50eda20c80b6ec120a6a2a75c1b791', 'metric_id': 'ValueDrift(column=GradeClass)', 'value': np.float64(0.9997188286733085)}], 'tests': [{'id': 'lt', 'name': 'Share of Drifted Columns: Less 0.500', 'description': 'Share of Drifted Columns: Actual value 0.154 < 0.500', 'metric_config': {'metric_id': '15e89f895b482f9b84ba7274ed18a106', 'params': {'type': 'evidently:metric_v2:DriftedColumnsCount', 'tests': None, 'share_tests': None, 'columns': None, 'embeddings': None, 'embeddings_drift_method': None, 'drift_share': 0.5, 'method': None, 'cat_method': None, 'num_method': None, 'text_method': None, 'per_column_method': None, 'threshold': None, 'cat_threshold': None, 'num_threshold': None, 'text_threshold': None, 'per_column_threshold': None}}, 'test_config': {'type': 'evidently:test_v2:LessThanMetricTest', 'is_critical': True, 'threshold': 0.5}, 'status': <TestStatus.SUCCESS: 'SUCCESS'>, 'bound_test': {'type': 'evidently:bound_test:CountBoundTest', 'test': {'type': 'evidently:test_v2:LessThanMetricTest', 'is_critical': True, 'threshold': 0.5}, 'metric_fingerprint': '15e89f895b482f9b84ba7274ed18a106', 'is_count': False}}, {'id': 'drift', 'name': 'Value Drift for column StudyTimeWeekly', 'description': 'Drift score is 0.40. The drift detection method is K-S p_value. The drift threshold is 0.05.', 'metric_config': {'metric_id': '00dd8ce4b56e6aae44128c0cca15d261', 'params': {'type': 'evidently:metric_v2:ValueDrift', 'tests': None, 'column': 'StudyTimeWeekly', 'method': None, 'threshold': None}}, 'test_config': {}, 'status': <TestStatus.SUCCESS: 'SUCCESS'>, 'bound_test': {'type': 'evidently:bound_test:ValueDriftBoundTest', 'test': {'type': 'evidently:test_v2:ValueDriftTest', 'is_critical': True}, 'metric_fingerprint': '00dd8ce4b56e6aae44128c0cca15d261'}}, {'id': 'drift', 'name': 'Value Drift for column Absences', 'description': 'Drift score is 0.66. The drift detection method is K-S p_value. The drift threshold is 0.05.', 'metric_config': {'metric_id': '0bc46a3cec87db56ff52decf30215a10', 'params': {'type': 'evidently:metric_v2:ValueDrift', 'tests': None, 'column': 'Absences', 'method': None, 'threshold': None}}, 'test_config': {}, 'status': <TestStatus.SUCCESS: 'SUCCESS'>, 'bound_test': {'type': 'evidently:bound_test:ValueDriftBoundTest', 'test': {'type': 'evidently:test_v2:ValueDriftTest', 'is_critical': True}, 'metric_fingerprint': '0bc46a3cec87db56ff52decf30215a10'}}, {'id': 'drift', 'name': 'Value Drift for column Age', 'description': 'Drift score is 0.09. The drift detection method is chi-square p_value. The drift threshold is 0.05.', 'metric_config': {'metric_id': '8f5d1c60a32d6fc1bd54bc53af61d8e8', 'params': {'type': 'evidently:metric_v2:ValueDrift', 'tests': None, 'column': 'Age', 'method': None, 'threshold': None}}, 'test_config': {}, 'status': <TestStatus.SUCCESS: 'SUCCESS'>, 'bound_test': {'type': 'evidently:bound_test:ValueDriftBoundTest', 'test': {'type': 'evidently:test_v2:ValueDriftTest', 'is_critical': True}, 'metric_fingerprint': '8f5d1c60a32d6fc1bd54bc53af61d8e8'}}, {'id': 'drift', 'name': 'Value Drift for column Gender', 'description': 'Drift score is 0.57. The drift detection method is Z-test p_value. The drift threshold is 0.05.', 'metric_config': {'metric_id': '36230dcfc62097d9b2725a795000a999', 'params': {'type': 'evidently:metric_v2:ValueDrift', 'tests': None, 'column': 'Gender', 'method': None, 'threshold': None}}, 'test_config': {}, 'status': <TestStatus.SUCCESS: 'SUCCESS'>, 'bound_test': {'type': 'evidently:bound_test:ValueDriftBoundTest', 'test': {'type': 'evidently:test_v2:ValueDriftTest', 'is_critical': True}, 'metric_fingerprint': '36230dcfc62097d9b2725a795000a999'}}, {'id': 'drift', 'name': 'Value Drift for column Ethnicity', 'description': 'Drift score is 0.01. The drift detection method is chi-square p_value. The drift threshold is 0.05.', 'metric_config': {'metric_id': '0318315f1e57c8412de5b393bd387a0f', 'params': {'type': 'evidently:metric_v2:ValueDrift', 'tests': None, 'column': 'Ethnicity', 'method': None, 'threshold': None}}, 'test_config': {}, 'status': <TestStatus.FAIL: 'FAIL'>, 'bound_test': {'type': 'evidently:bound_test:ValueDriftBoundTest', 'test': {'type': 'evidently:test_v2:ValueDriftTest', 'is_critical': True}, 'metric_fingerprint': '0318315f1e57c8412de5b393bd387a0f'}}, {'id': 'drift', 'name': 'Value Drift for column ParentalEducation', 'description': 'Drift score is 0.00. The drift detection method is chi-square p_value. The drift threshold is 0.05.', 'metric_config': {'metric_id': '7db670e70400b7e4689ac0aa335094cb', 'params': {'type': 'evidently:metric_v2:ValueDrift', 'tests': None, 'column': 'ParentalEducation', 'method': None, 'threshold': None}}, 'test_config': {}, 'status': <TestStatus.FAIL: 'FAIL'>, 'bound_test': {'type': 'evidently:bound_test:ValueDriftBoundTest', 'test': {'type': 'evidently:test_v2:ValueDriftTest', 'is_critical': True}, 'metric_fingerprint': '7db670e70400b7e4689ac0aa335094cb'}}, {'id': 'drift', 'name': 'Value Drift for column Tutoring', 'description': 'Drift score is 0.10. The drift detection method is Z-test p_value. The drift threshold is 0.05.', 'metric_config': {'metric_id': 'd8a63127d09a52824f55857944a21f0c', 'params': {'type': 'evidently:metric_v2:ValueDrift', 'tests': None, 'column': 'Tutoring', 'method': None, 'threshold': None}}, 'test_config': {}, 'status': <TestStatus.SUCCESS: 'SUCCESS'>, 'bound_test': {'type': 'evidently:bound_test:ValueDriftBoundTest', 'test': {'type': 'evidently:test_v2:ValueDriftTest', 'is_critical': True}, 'metric_fingerprint': 'd8a63127d09a52824f55857944a21f0c'}}, {'id': 'drift', 'name': 'Value Drift for column ParentalSupport', 'description': 'Drift score is 0.08. The drift detection method is chi-square p_value. The drift threshold is 0.05.', 'metric_config': {'metric_id': 'df1de02e5533d2be22fbc0aefe3940f6', 'params': {'type': 'evidently:metric_v2:ValueDrift', 'tests': None, 'column': 'ParentalSupport', 'method': None, 'threshold': None}}, 'test_config': {}, 'status': <TestStatus.SUCCESS: 'SUCCESS'>, 'bound_test': {'type': 'evidently:bound_test:ValueDriftBoundTest', 'test': {'type': 'evidently:test_v2:ValueDriftTest', 'is_critical': True}, 'metric_fingerprint': 'df1de02e5533d2be22fbc0aefe3940f6'}}, {'id': 'drift', 'name': 'Value Drift for column Extracurricular', 'description': 'Drift score is 0.81. The drift detection method is Z-test p_value. The drift threshold is 0.05.', 'metric_config': {'metric_id': '93314681ceed7bdc3b2a77176766ebcd', 'params': {'type': 'evidently:metric_v2:ValueDrift', 'tests': None, 'column': 'Extracurricular', 'method': None, 'threshold': None}}, 'test_config': {}, 'status': <TestStatus.SUCCESS: 'SUCCESS'>, 'bound_test': {'type': 'evidently:bound_test:ValueDriftBoundTest', 'test': {'type': 'evidently:test_v2:ValueDriftTest', 'is_critical': True}, 'metric_fingerprint': '93314681ceed7bdc3b2a77176766ebcd'}}, {'id': 'drift', 'name': 'Value Drift for column Sports', 'description': 'Drift score is 0.14. The drift detection method is Z-test p_value. The drift threshold is 0.05.', 'metric_config': {'metric_id': '39ca23cb4aa7f511138036491b18c347', 'params': {'type': 'evidently:metric_v2:ValueDrift', 'tests': None, 'column': 'Sports', 'method': None, 'threshold': None}}, 'test_config': {}, 'status': <TestStatus.SUCCESS: 'SUCCESS'>, 'bound_test': {'type': 'evidently:bound_test:ValueDriftBoundTest', 'test': {'type': 'evidently:test_v2:ValueDriftTest', 'is_critical': True}, 'metric_fingerprint': '39ca23cb4aa7f511138036491b18c347'}}, {'id': 'drift', 'name': 'Value Drift for column Music', 'description': 'Drift score is 0.48. The drift detection method is Z-test p_value. The drift threshold is 0.05.', 'metric_config': {'metric_id': '929b9908bf3a332b8283b4440b4440a8', 'params': {'type': 'evidently:metric_v2:ValueDrift', 'tests': None, 'column': 'Music', 'method': None, 'threshold': None}}, 'test_config': {}, 'status': <TestStatus.SUCCESS: 'SUCCESS'>, 'bound_test': {'type': 'evidently:bound_test:ValueDriftBoundTest', 'test': {'type': 'evidently:test_v2:ValueDriftTest', 'is_critical': True}, 'metric_fingerprint': '929b9908bf3a332b8283b4440b4440a8'}}, {'id': 'drift', 'name': 'Value Drift for column Volunteering', 'description': 'Drift score is 0.80. The drift detection method is Z-test p_value. The drift threshold is 0.05.', 'metric_config': {'metric_id': '9ec1b216cbca174af260408befd3994f', 'params': {'type': 'evidently:metric_v2:ValueDrift', 'tests': None, 'column': 'Volunteering', 'method': None, 'threshold': None}}, 'test_config': {}, 'status': <TestStatus.SUCCESS: 'SUCCESS'>, 'bound_test': {'type': 'evidently:bound_test:ValueDriftBoundTest', 'test': {'type': 'evidently:test_v2:ValueDriftTest', 'is_critical': True}, 'metric_fingerprint': '9ec1b216cbca174af260408befd3994f'}}, {'id': 'drift', 'name': 'Value Drift for column GradeClass', 'description': 'Drift score is 1.00. The drift detection method is chi-square p_value. The drift threshold is 0.05.', 'metric_config': {'metric_id': 'ff50eda20c80b6ec120a6a2a75c1b791', 'params': {'type': 'evidently:metric_v2:ValueDrift', 'tests': None, 'column': 'GradeClass', 'method': None, 'threshold': None}}, 'test_config': {}, 'status': <TestStatus.SUCCESS: 'SUCCESS'>, 'bound_test': {'type': 'evidently:bound_test:ValueDriftBoundTest', 'test': {'type': 'evidently:test_v2:ValueDriftTest', 'is_critical': True}, 'metric_fingerprint': 'ff50eda20c80b6ec120a6a2a75c1b791'}}]}\n"
     ]
    }
   ],
   "source": [
    "print(my_eval.dict())"
   ]
  },
  {
   "cell_type": "code",
   "execution_count": null,
   "id": "768581b4",
   "metadata": {},
   "outputs": [
    {
     "data": {
      "text/plain": [
       "14"
      ]
     },
     "execution_count": 27,
     "metadata": {},
     "output_type": "execute_result"
    }
   ],
   "source": [
    "my_eval.dict()['tests']"
   ]
  },
  {
   "cell_type": "code",
   "execution_count": 57,
   "id": "1f894c7a",
   "metadata": {},
   "outputs": [],
   "source": [
    "num_fail =  num_test_status.FAIL\n",
    "cat_fail =  cat_test_status.FAIL"
   ]
  },
  {
   "cell_type": "code",
   "execution_count": 58,
   "id": "8fafff3a",
   "metadata": {},
   "outputs": [
    {
     "name": "stdout",
     "output_type": "stream",
     "text": [
      "Uh oh!\n",
      "There seems to be a drift in a column!\n",
      "\n",
      "Value Drift for column Ethnicity\n",
      " \n",
      "Drift score is 0.01. The drift detection method is chi-square p_value. The drift threshold is 0.05.\n",
      " \n",
      "You might want to consider re-generating the train-val-test split\n",
      "\n",
      "Uh oh!\n",
      "There seems to be a drift in a column!\n",
      "\n",
      "Value Drift for column ParentalEducation\n",
      " \n",
      "Drift score is 0.00. The drift detection method is chi-square p_value. The drift threshold is 0.05.\n",
      " \n",
      "You might want to consider re-generating the train-val-test split\n",
      "\n"
     ]
    }
   ],
   "source": [
    "for i in range(14):\n",
    "    value = my_eval.dict()['tests'][i]['status']\n",
    "    if value in [num_fail,cat_fail]:\n",
    "        # Check for the GradeClass column\n",
    "        if i == 13:\n",
    "            print('OH NO!\\n')\n",
    "            print('It appears you have value drift for the dependent variable\\n')\n",
    "            print('Here is the log:\\n')\n",
    "            print(my_eval.dict()['tests'][i]['description'])\n",
    "            print(' ')\n",
    "            print('You should strongly consider re-generating the split\\n')\n",
    "            print('If not, it is possible that your model will be ineffective\\n')\n",
    "\n",
    "            continue\n",
    "        \n",
    "        # Check for the others\n",
    "        print('Uh oh!')\n",
    "        print('There seems to be a drift in a column!\\n')\n",
    "        print(my_eval.dict()['tests'][i]['name'])\n",
    "        print(' ')\n",
    "        print(my_eval.dict()['tests'][i]['description'])\n",
    "        print(' ')\n",
    "        print('You might want to consider re-generating the train-val-test split\\n')\n"
   ]
  }
 ],
 "metadata": {
  "kernelspec": {
   "display_name": "mlops-zoomcamp-project-2025-gzlMAwjs",
   "language": "python",
   "name": "python3"
  },
  "language_info": {
   "codemirror_mode": {
    "name": "ipython",
    "version": 3
   },
   "file_extension": ".py",
   "mimetype": "text/x-python",
   "name": "python",
   "nbconvert_exporter": "python",
   "pygments_lexer": "ipython3",
   "version": "3.12.9"
  }
 },
 "nbformat": 4,
 "nbformat_minor": 5
}
